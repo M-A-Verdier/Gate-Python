{
 "cells": [
  {
   "cell_type": "markdown",
   "metadata": {
    "slideshow": {
     "slide_type": "slide"
    }
   },
   "source": [
    "# Softaware installation procedure"
   ]
  },
  {
   "cell_type": "markdown",
   "metadata": {
    "slideshow": {
     "slide_type": "subslide"
    }
   },
   "source": [
    "- Open a terminal a ssh log in the server:\n",
    "    - `ssh my_login@193.48.91.5`\n",
    "    \n",
    "- Install python libraries:\n",
    "    - `pip3 install --user --upgrade numpy scipy matplotlib pandas jupyter uproot dask simplitk pydicom widgetsnbextension rise xxhash lz4 ipympl`\n",
    "    \n",
    "- then:\n",
    "    - `jupyter labextension install @jupyter-widgets/jupyterlab-manager`\n",
    "    - `jupyter labextension install jupyter-matplotlib`"
   ]
  },
  {
   "cell_type": "markdown",
   "metadata": {
    "slideshow": {
     "slide_type": "subslide"
    }
   },
   "source": [
    "- Then to run Jupyter-lab from the server to your own internet browser, while still connected by ssh do:\n",
    "    - `jupyter notebook password`\n",
    "        - choose a password\n",
    "    - `jupyter lab --port=xxxx --no-browser &`\n",
    "        - where xxxx is a 4 digits number you choose (not the same as your neighbour)\n",
    "    - Then open a new terminal (while keeping opened the current ssh connection) and type: `ssh -N -f -L 8888:localhost:xxxx fergus@my_login@193.48.91.5`\n",
    "        - where xxxx are the previous 4 digits\n",
    "    - Open a web browser on your laptop and type in the address bar: `localhost:8888`\n",
    "    "
   ]
  }
 ],
 "metadata": {
  "kernelspec": {
   "display_name": "Python 3",
   "language": "python",
   "name": "python3"
  },
  "language_info": {
   "codemirror_mode": {
    "name": "ipython",
    "version": 3
   },
   "file_extension": ".py",
   "mimetype": "text/x-python",
   "name": "python",
   "nbconvert_exporter": "python",
   "pygments_lexer": "ipython3",
   "version": "3.6.9"
  }
 },
 "nbformat": 4,
 "nbformat_minor": 4
}
